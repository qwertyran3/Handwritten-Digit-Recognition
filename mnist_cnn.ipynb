{
  "nbformat": 4,
  "nbformat_minor": 0,
  "metadata": {
    "colab": {
      "name": "mnist_cnn.ipynb",
      "version": "0.3.2",
      "provenance": [],
      "collapsed_sections": [],
      "include_colab_link": true
    },
    "kernelspec": {
      "name": "python3",
      "display_name": "Python 3"
    },
    "accelerator": "GPU"
  },
  "cells": [
    {
      "cell_type": "markdown",
      "metadata": {
        "id": "view-in-github",
        "colab_type": "text"
      },
      "source": [
        "[View in Colaboratory](https://colab.research.google.com/github/manoj9april/MNIST/blob/master/mnist_cnn.ipynb)"
      ]
    },
    {
      "metadata": {
        "id": "xJJZZ_7Olwxb",
        "colab_type": "code",
        "colab": {}
      },
      "cell_type": "code",
      "source": [
        "import keras"
      ],
      "execution_count": 0,
      "outputs": []
    },
    {
      "metadata": {
        "id": "TkqU91r2n2LG",
        "colab_type": "code",
        "colab": {}
      },
      "cell_type": "code",
      "source": [
        "# loading dataset and normalizing it\n",
        "mnist = keras.datasets.mnist\n",
        "(x_train,y_train),(x_test,y_test) = mnist.load_data()\n",
        "x = x_test\n",
        "x_train = keras.utils.normalize(x_train,axis=1)\n",
        "x_test = keras.utils.normalize(x_test,axis=1)\n",
        "x_train=x_train.reshape((60000,28,28,1))\n",
        "x_test=x_test.reshape((10000,28,28,1))"
      ],
      "execution_count": 0,
      "outputs": []
    },
    {
      "metadata": {
        "id": "U_8Jj3zBpItq",
        "colab_type": "code",
        "colab": {}
      },
      "cell_type": "code",
      "source": [
        "import keras.layers as ly\n",
        "# building the architecture of network\n",
        "model = keras.models.Sequential();\n",
        "\n",
        "model.add(ly.Conv2D(16,(3,3),padding=\"same\",input_shape=(28,28,1)))\n",
        "model.add(ly.Conv2D(32,(3,3),padding=\"same\",activation='relu'))\n",
        "model.add(ly.MaxPooling2D())\n",
        "model.add(ly.Flatten())\n",
        "model.add(ly.Dense(128,activation='relu'))\n",
        "model.add(ly.Dense(64,activation='relu'))\n",
        "model.add(ly.Dense(10,activation='softmax'))"
      ],
      "execution_count": 0,
      "outputs": []
    },
    {
      "metadata": {
        "id": "4pv7LotAq97t",
        "colab_type": "code",
        "colab": {}
      },
      "cell_type": "code",
      "source": [
        "# setting optimizers, lossses , etc...\n",
        "model.compile(optimizer='adam',\n",
        "             loss='sparse_categorical_crossentropy',\n",
        "             metrics=['accuracy'])"
      ],
      "execution_count": 0,
      "outputs": []
    },
    {
      "metadata": {
        "id": "gryXriJns6DP",
        "colab_type": "code",
        "colab": {
          "base_uri": "https://localhost:8080/",
          "height": 179
        },
        "outputId": "441eb43a-7e1d-4c69-ed12-723e2459ae5e"
      },
      "cell_type": "code",
      "source": [
        "# training the model\n",
        "model.fit(x_train, y_train, epochs=4)"
      ],
      "execution_count": 54,
      "outputs": [
        {
          "output_type": "stream",
          "text": [
            "Epoch 1/4\n",
            "60000/60000 [==============================] - 20s 337us/step - loss: 0.1571 - acc: 0.9522\n",
            "Epoch 2/4\n",
            "60000/60000 [==============================] - 20s 328us/step - loss: 0.0560 - acc: 0.9828\n",
            "Epoch 3/4\n",
            "60000/60000 [==============================] - 20s 329us/step - loss: 0.0372 - acc: 0.9876\n",
            "Epoch 4/4\n",
            "60000/60000 [==============================] - 20s 329us/step - loss: 0.0274 - acc: 0.9912\n"
          ],
          "name": "stdout"
        },
        {
          "output_type": "execute_result",
          "data": {
            "text/plain": [
              "<keras.callbacks.History at 0x7f7a0d546da0>"
            ]
          },
          "metadata": {
            "tags": []
          },
          "execution_count": 54
        }
      ]
    },
    {
      "metadata": {
        "id": "G82HtIy5tQXu",
        "colab_type": "code",
        "colab": {
          "base_uri": "https://localhost:8080/",
          "height": 53
        },
        "outputId": "ac75f5c2-3580-42dd-f6dc-9e8bbc4c8132"
      },
      "cell_type": "code",
      "source": [
        "# evaluating ...\n",
        "loss, acc = model.evaluate(x_test, y_test, verbose=0)\n",
        "print('Test loss:', loss)\n",
        "print('Test accuracy:', acc)"
      ],
      "execution_count": 55,
      "outputs": [
        {
          "output_type": "stream",
          "text": [
            "Test loss: 0.05510410885570454\n",
            "Test accuracy: 0.9853\n"
          ],
          "name": "stdout"
        }
      ]
    },
    {
      "metadata": {
        "id": "OEGgTN82tuKi",
        "colab_type": "code",
        "colab": {}
      },
      "cell_type": "code",
      "source": [
        "# predicting ...\n",
        "import numpy as np\n",
        "import matplotlib.pyplot as plt\n",
        "\n",
        "predictions = model.predict(x_test)"
      ],
      "execution_count": 0,
      "outputs": []
    },
    {
      "metadata": {
        "id": "MunoBi9kvGKO",
        "colab_type": "code",
        "colab": {
          "base_uri": "https://localhost:8080/",
          "height": 365
        },
        "outputId": "136e4255-a180-46e8-e878-8dfa14224a67"
      },
      "cell_type": "code",
      "source": [
        "idx = 5478\n",
        "plt.imshow(x[idx])\n",
        "plt.show()\n",
        "print(np.argmax(predictions[idx]))"
      ],
      "execution_count": 57,
      "outputs": [
        {
          "output_type": "display_data",
          "data": {
            "image/png": "[encoded data removed]",
            "text/plain": [
              "<matplotlib.figure.Figure at 0x7f7a0d297b38>"
            ]
          },
          "metadata": {
            "tags": []
          }
        },
        {
          "output_type": "stream",
          "text": [
            "8\n"
          ],
          "name": "stdout"
        }
      ]
    },
    {
      "metadata": {
        "id": "NRlCc1xfvlbZ",
        "colab_type": "code",
        "colab": {}
      },
      "cell_type": "code",
      "source": [
        "model.save('mnist_model')"
      ],
      "execution_count": 0,
      "outputs": []
    },
    {
      "metadata": {
        "id": "__vwMG2EvtHD",
        "colab_type": "code",
        "colab": {}
      },
      "cell_type": "code",
      "source": [
        ""
      ],
      "execution_count": 0,
      "outputs": []
    }
  ]
}